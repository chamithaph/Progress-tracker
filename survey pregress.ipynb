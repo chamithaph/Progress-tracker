{
 "cells": [
  {
   "cell_type": "markdown",
   "id": "cdcdd3e7",
   "metadata": {},
   "source": [
    "# Tracking Data Entry Progress in RMMS Module Using Python."
   ]
  },
  {
   "cell_type": "markdown",
   "id": "0904bb3b",
   "metadata": {},
   "source": [
    "This notebook contains a step-by-step guide on how to filter data using Python to track the progress of data entry in the RMMS Module. Before proceeding, make sure you have downloaded the large data file in Excel format from the RMMS Module. The following scripts were developed to achieve the desired result:\n",
    "\n",
    "Data Download: The first step is to download the large data file from the RMMS Module in Excel format. This file will serve as the input for our data filtering process."
   ]
  },
  {
   "cell_type": "code",
   "execution_count": 4,
   "id": "749cf001",
   "metadata": {},
   "outputs": [
    {
     "name": "stdout",
     "output_type": "stream",
     "text": [
      "  Road Code                                        Itm Desc      Qty  \\\n",
      "0     A0001                  KM Post painting and numbering    16.00   \n",
      "1     A0001  Removal of silt and sand in kerbs and channels  3036.00   \n",
      "2     A0001                                   Crack sealing   818.66   \n",
      "3     A0001               clearing of manholes and gullies.    60.00   \n",
      "4     A0002                              Road side sweeping     0.00   \n",
      "\n",
      "  Units Of Measurement     Rate  Total Amount Province CE Region           EE  \\\n",
      "0                   no  1107.35     17717.600     WEST   Gampaha      Gampaha   \n",
      "1                    m    21.80    189082.800  CENTRAL     Kandy  Kadugannawa   \n",
      "2                  sqm   214.55    175643.503  CENTRAL     Kandy        Kandy   \n",
      "3                   no   332.69     19961.400  CENTRAL     Kandy  Kadugannawa   \n",
      "4                  sqm     1.81         0.000    SOUTH     Galle        Galle   \n",
      "\n",
      "         Depot  \n",
      "0      Gampaha  \n",
      "1  Kadugannawa  \n",
      "2      Gatambe  \n",
      "3  Kadugannawa  \n",
      "4    Baddegama  \n"
     ]
    }
   ],
   "source": [
    "import pandas as pd\n",
    "\n",
    "def load_excel_file(file_path, sheet_name):\n",
    "    try:\n",
    "        df = pd.read_excel(file_path, sheet_name=sheet_name)\n",
    "        return df\n",
    "    except Exception as e:\n",
    "        print(\"Error loading the Excel file:\", e)\n",
    "        return None\n",
    "\n",
    "if __name__ == \"__main__\":\n",
    "    file_path = \"RP.xlsx\"  # Replace with the actual path of your Excel file\n",
    "    sheet_name = \"sheet1\"  # Replace with the name of the sheet in your Excel file\n",
    "\n",
    "    df = load_excel_file(file_path, sheet_name)\n",
    "    if df is not None:\n",
    "        print(df.head())"
   ]
  },
  {
   "cell_type": "markdown",
   "id": "876f2c5b",
   "metadata": {},
   "source": [
    "The number of data entries performed by each Depot is sought to be determined. A specialized script has been developed for the purpose of gathering this data. pandas function #.value_counts() that operates on the series. It counts the occurrences of each unique value in the Series and returns the result as a new Series, where the unique values are the index, and the counts are the corresponding values. The Series is sorted in descending order based on the counts.\n"
   ]
  },
  {
   "cell_type": "code",
   "execution_count": 5,
   "id": "76338b1a",
   "metadata": {},
   "outputs": [
    {
     "name": "stdout",
     "output_type": "stream",
     "text": [
      "Depot\n",
      "Thalgaswala       175\n",
      "Embilipitiya      136\n",
      "Nugaduwa          124\n",
      "Indikatudeniya    124\n",
      "Beragama          101\n",
      "Name: count, dtype: int64\n"
     ]
    }
   ],
   "source": [
    "column_name = \"Depot\"\n",
    "\n",
    "df1 = df[column_name].value_counts()\n",
    "print(df1.head())"
   ]
  },
  {
   "cell_type": "markdown",
   "id": "b3559cde",
   "metadata": {},
   "source": [
    "The addition of data filtering based on specific columns, such as \"EE division\" and \"CE division,\" has been implemented in this script. Consequently, input entries have been incorporated to enable a more refined data collection process."
   ]
  },
  {
   "cell_type": "code",
   "execution_count": 6,
   "id": "8ba41119",
   "metadata": {},
   "outputs": [
    {
     "name": "stdout",
     "output_type": "stream",
     "text": [
      "Enter the name of the column for which you want to find unique values: EE\n",
      "EE\n",
      "Galle           271\n",
      "Deniyaya        236\n",
      "Embilipitiya    203\n",
      "Hiniduma        175\n",
      "Chilaw           97\n",
      "Name: count, dtype: int64\n"
     ]
    }
   ],
   "source": [
    "column_name = input(\"Enter the name of the column for which you want to find unique values: \")\n",
    "df1 = df[column_name].value_counts()\n",
    "print(df1.head())"
   ]
  },
  {
   "cell_type": "markdown",
   "id": "7ec45271",
   "metadata": {},
   "source": [
    ".reset_index(): This part resets the index of the Series. When you call reset_index() on a pandas Series, it converts the Series into a DataFrame. The old index of the Series becomes a new column in the DataFrame, and a new default integer index is assigned."
   ]
  },
  {
   "cell_type": "code",
   "execution_count": 7,
   "id": "9d4d2108",
   "metadata": {},
   "outputs": [
    {
     "name": "stdout",
     "output_type": "stream",
     "text": [
      "          Value  Count\n",
      "0         Galle    271\n",
      "1      Deniyaya    236\n",
      "2  Embilipitiya    203\n",
      "3      Hiniduma    175\n",
      "4        Chilaw     97\n"
     ]
    }
   ],
   "source": [
    "column_div = df1.reset_index()\n",
    "column_div.columns = ['Value', 'Count']\n",
    "print(column_div.head())"
   ]
  },
  {
   "cell_type": "markdown",
   "id": "41f6de65",
   "metadata": {},
   "source": [
    ".to_csv function is use to write the data frame in to the csv file."
   ]
  },
  {
   "cell_type": "code",
   "execution_count": 8,
   "id": "4a04d92a",
   "metadata": {},
   "outputs": [
    {
     "name": "stdout",
     "output_type": "stream",
     "text": [
      "Data has been written to output.csv.\n"
     ]
    }
   ],
   "source": [
    "output_file = \"output.csv\"\n",
    "column_div.to_csv(output_file, index=False)\n",
    "print(f\"Data has been written to {output_file}.\")"
   ]
  },
  {
   "cell_type": "markdown",
   "id": "8d6a38ea",
   "metadata": {},
   "source": [
    "pd.read_csv function is use to load csv file from the directory."
   ]
  },
  {
   "cell_type": "code",
   "execution_count": 9,
   "id": "6bdfbc30",
   "metadata": {},
   "outputs": [
    {
     "name": "stdout",
     "output_type": "stream",
     "text": [
      "  Road Number Class                               Name  From (m)  To (m)  \\\n",
      "0       A0000     A  Kollupitiya - Sri Jayewardenepura         0    3570   \n",
      "1       A0000     A  Kollupitiya - Sri Jayewardenepura      3570    7092   \n",
      "2       A0001     A                    Colombo - Kandy         0    4700   \n",
      "3       A0001     A                    Colombo - Kandy      4700    5860   \n",
      "4       A0001     A                    Colombo - Kandy      5860   22580   \n",
      "\n",
      "   Length (m)        Deport  Deport Code       EE  EE Code       CE  CE Code  \\\n",
      "0        3570           CMC         1110  Colombo      111  Colombo       11   \n",
      "1        3522        Nawala         1113  Colombo      111  Colombo       11   \n",
      "2        4700           CMC         1110  Colombo      111  Colombo       11   \n",
      "3        1160  Orugodawatta         1114  Colombo      111  Colombo       11   \n",
      "4       16720     Kadawatha         1212  Gampaha      121  Gampaha       12   \n",
      "\n",
      "           Province  Prov Code  \n",
      "0  Western Province          1  \n",
      "1  Western Province          1  \n",
      "2  Western Province          1  \n",
      "3  Western Province          1  \n",
      "4  Western Province          1  \n"
     ]
    }
   ],
   "source": [
    "file_name = 'Road list new.csv'\n",
    "df2 = pd.read_csv(file_name)\n",
    "print(df2.head())"
   ]
  },
  {
   "cell_type": "markdown",
   "id": "b507dc04",
   "metadata": {},
   "source": [
    "This script is to select required columns from the loaded data frame. iloc function is to select columns according to their index number."
   ]
  },
  {
   "cell_type": "code",
   "execution_count": 20,
   "id": "e4389070",
   "metadata": {},
   "outputs": [
    {
     "name": "stdout",
     "output_type": "stream",
     "text": [
      "  Road Number                               Name  From (m)  To (m)  \\\n",
      "0       A0000  Kollupitiya - Sri Jayewardenepura         0    3570   \n",
      "1       A0000  Kollupitiya - Sri Jayewardenepura      3570    7092   \n",
      "2       A0001                    Colombo - Kandy         0    4700   \n",
      "3       A0001                    Colombo - Kandy      4700    5860   \n",
      "4       A0001                    Colombo - Kandy      5860   22580   \n",
      "\n",
      "         Deport       EE       CE          Province  \n",
      "0           CMC  Colombo  Colombo  Western Province  \n",
      "1        Nawala  Colombo  Colombo  Western Province  \n",
      "2           CMC  Colombo  Colombo  Western Province  \n",
      "3  Orugodawatta  Colombo  Colombo  Western Province  \n",
      "4     Kadawatha  Gampaha  Gampaha  Western Province  \n"
     ]
    }
   ],
   "source": [
    "col_select1 = [0, 2, 3, 4, 6, 8, 10, 12]\n",
    "df3 = df2.iloc[:, col_select1]\n",
    "print(df3.head())"
   ]
  },
  {
   "cell_type": "markdown",
   "id": "0590f470",
   "metadata": {},
   "source": [
    "Data frame 3 has been copied to avoid dupplications. new data frame column 1 changed to match the name in excel file using rename columns function."
   ]
  },
  {
   "cell_type": "code",
   "execution_count": 21,
   "id": "1d0829b6",
   "metadata": {},
   "outputs": [
    {
     "name": "stdout",
     "output_type": "stream",
     "text": [
      "  Road Code                               Name  From (m)  To (m)  \\\n",
      "0     A0000  Kollupitiya - Sri Jayewardenepura         0    3570   \n",
      "1     A0000  Kollupitiya - Sri Jayewardenepura      3570    7092   \n",
      "2     A0001                    Colombo - Kandy         0    4700   \n",
      "3     A0001                    Colombo - Kandy      4700    5860   \n",
      "4     A0001                    Colombo - Kandy      5860   22580   \n",
      "\n",
      "          Depot       EE       CE          Province  \n",
      "0           CMC  Colombo  Colombo  Western Province  \n",
      "1        Nawala  Colombo  Colombo  Western Province  \n",
      "2           CMC  Colombo  Colombo  Western Province  \n",
      "3  Orugodawatta  Colombo  Colombo  Western Province  \n",
      "4     Kadawatha  Gampaha  Gampaha  Western Province  \n"
     ]
    }
   ],
   "source": [
    "df4 = df3.copy()\n",
    "df4.rename(columns={'Road Number': 'Road Code', 'Deport':'Depot' }, inplace=True)\n",
    "print(df4.head())"
   ]
  },
  {
   "cell_type": "markdown",
   "id": "1ea6a2dc",
   "metadata": {},
   "source": [
    "groupby() function is use to group according to the Depot name and value count is taken according to Road code."
   ]
  },
  {
   "cell_type": "code",
   "execution_count": 22,
   "id": "32244ddb",
   "metadata": {},
   "outputs": [
    {
     "name": "stdout",
     "output_type": "stream",
     "text": [
      "Depot             Road Code\n",
      "Ambanpola         A0028         1\n",
      "Ampara            A0025         1\n",
      "Baddegama         B0106        11\n",
      "                  B0526        10\n",
      "                  A0002        10\n",
      "                               ..\n",
      "Udadumbara        A0026         1\n",
      "                  B0493         1\n",
      "Ulhiduwawa (sub)  A0017        28\n",
      "Walachchenei      A0015         1\n",
      "Walahapitiya      B0272        16\n",
      "Name: count, Length: 131, dtype: int64\n",
      "                Depot Road Code  Count\n",
      "0           Ambanpola     A0028      1\n",
      "1              Ampara     A0025      1\n",
      "2           Baddegama     B0106     11\n",
      "3           Baddegama     B0526     10\n",
      "4           Baddegama     A0002     10\n",
      "..                ...       ...    ...\n",
      "126        Udadumbara     A0026      1\n",
      "127        Udadumbara     B0493      1\n",
      "128  Ulhiduwawa (sub)     A0017     28\n",
      "129      Walachchenei     A0015      1\n",
      "130      Walahapitiya     B0272     16\n",
      "\n",
      "[131 rows x 3 columns]\n"
     ]
    }
   ],
   "source": [
    "df5 = df.groupby('Depot')['Road Code'].value_counts()\n",
    "print(df5)\n",
    "df6 = df5.reset_index()\n",
    "df6.columns = ['Depot', 'Road Code', 'Count']\n",
    "print(df6)\n",
    "output_file2 = \"output2.csv\"\n",
    "df6.to_csv(output_file2, index=False)"
   ]
  },
  {
   "cell_type": "code",
   "execution_count": 23,
   "id": "8296ff96",
   "metadata": {},
   "outputs": [
    {
     "name": "stdout",
     "output_type": "stream",
     "text": [
      "     Road Code                                   Name  From (m)  To (m)  \\\n",
      "0        A0000      Kollupitiya - Sri Jayewardenepura         0    3570   \n",
      "1        A0000      Kollupitiya - Sri Jayewardenepura      3570    7092   \n",
      "2        A0001                        Colombo - Kandy         0    4700   \n",
      "3        A0001                        Colombo - Kandy      4700    5860   \n",
      "4        A0001                        Colombo - Kandy      5860   22580   \n",
      "...        ...                                    ...       ...     ...   \n",
      "1091     K0043                      Wellawaya By Pass         0    1150   \n",
      "1092     K0044  Mahiyangana - Dimbulagala - Dalukkane         0   24030   \n",
      "1093     K0044  Mahiyangana - Dimbulagala - Dalukkane     24030   46865   \n",
      "1094     K0044  Mahiyangana - Dimbulagala - Dalukkane     46865   72410   \n",
      "1095     K0045                     Avissawela By pass         0     910   \n",
      "\n",
      "                 Depot                EE           CE                Province  \\\n",
      "0                  CMC           Colombo      Colombo        Western Province   \n",
      "1               Nawala           Colombo      Colombo        Western Province   \n",
      "2                  CMC           Colombo      Colombo        Western Province   \n",
      "3         Orugodawatta           Colombo      Colombo        Western Province   \n",
      "4            Kadawatha           Gampaha      Gampaha        Western Province   \n",
      "...                ...               ...          ...                     ...   \n",
      "1091          Pelwatta        Monaragala   Monaragala            UVA Province   \n",
      "1092     Mahiyanganaya     Mahiyanganaya      Badulla            UVA Province   \n",
      "1093  Dehiatthakandiya  Dehiatthakandiya       Ampara      Add.P Akkaraipattu   \n",
      "1094          Siripura       Polonnaruwa  Polonnaruwa  North Central Province   \n",
      "1095        Kaluaggala       Avissawella      Colombo        Western Province   \n",
      "\n",
      "      Count  \n",
      "0       NaN  \n",
      "1       NaN  \n",
      "2       NaN  \n",
      "3       NaN  \n",
      "4       NaN  \n",
      "...     ...  \n",
      "1091    NaN  \n",
      "1092    NaN  \n",
      "1093    NaN  \n",
      "1094    NaN  \n",
      "1095    NaN  \n",
      "\n",
      "[1096 rows x 9 columns]\n"
     ]
    }
   ],
   "source": [
    "match_col = ['Depot', 'Road Code']\n",
    "df7 = pd.merge(df4, df6, on=match_col, how='outer')\n",
    "print(df7)"
   ]
  },
  {
   "cell_type": "code",
   "execution_count": 25,
   "id": "6a5097be",
   "metadata": {},
   "outputs": [],
   "source": [
    "output_file3 = \"output3.csv\"\n",
    "df7.to_csv(output_file3, index=False)"
   ]
  },
  {
   "cell_type": "code",
   "execution_count": null,
   "id": "dda36f2e",
   "metadata": {},
   "outputs": [],
   "source": []
  },
  {
   "cell_type": "code",
   "execution_count": null,
   "id": "ca1da1ee",
   "metadata": {},
   "outputs": [],
   "source": []
  }
 ],
 "metadata": {
  "kernelspec": {
   "display_name": "Python 3 (ipykernel)",
   "language": "python",
   "name": "python3"
  },
  "language_info": {
   "codemirror_mode": {
    "name": "ipython",
    "version": 3
   },
   "file_extension": ".py",
   "mimetype": "text/x-python",
   "name": "python",
   "nbconvert_exporter": "python",
   "pygments_lexer": "ipython3",
   "version": "3.10.8"
  }
 },
 "nbformat": 4,
 "nbformat_minor": 5
}
